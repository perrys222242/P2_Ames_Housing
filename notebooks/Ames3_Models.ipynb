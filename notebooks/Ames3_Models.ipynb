{
 "cells": [
  {
   "cell_type": "markdown",
   "metadata": {},
   "source": [
    "# Model-A (2. Lasso)"
   ]
  },
  {
   "cell_type": "markdown",
   "metadata": {},
   "source": [
    "### Import the necessary libraries to run the calculations below."
   ]
  },
  {
   "cell_type": "code",
   "execution_count": 1,
   "metadata": {},
   "outputs": [],
   "source": [
    "import pandas as pd\n",
    "from sklearn.linear_model import LinearRegression\n",
    "import matplotlib.pyplot as plt\n",
    "import seaborn as sns\n",
    "import pickle\n",
    "import numpy as np\n",
    "np.random.seed(42)\n",
    "\n",
    "from sklearn.linear_model import Lasso, LassoCV, Ridge, RidgeCV\n",
    "\n",
    "%matplotlib inline"
   ]
  },
  {
   "cell_type": "markdown",
   "metadata": {},
   "source": [
    "### Import the data and scaling model."
   ]
  },
  {
   "cell_type": "code",
   "execution_count": 2,
   "metadata": {},
   "outputs": [],
   "source": [
    "train = pd.read_csv(\"../data/train_dum.csv\", index_col='Id')\n",
    "kaggle = pd.read_csv(\"../data/test_dum.csv\", index_col='Id')         # To be used for Submission #"
   ]
  },
  {
   "cell_type": "code",
   "execution_count": 3,
   "metadata": {},
   "outputs": [],
   "source": [
    "X_train = pd.read_csv('../data/X_train_dum_sc.csv', header=None)\n",
    "X_test = pd.read_csv('../data/X_test_dum_sc.csv', header=None)\n",
    "y_train = pd.read_csv('../data/y_train.csv', header=None)\n",
    "y_test = pd.read_csv('../data/y_test.csv', header=None)"
   ]
  },
  {
   "cell_type": "code",
   "execution_count": 4,
   "metadata": {},
   "outputs": [],
   "source": [
    "with open('../data/scaler.pkl', 'rb') as f:\n",
    "    sc = pickle.load(f)"
   ]
  },
  {
   "cell_type": "code",
   "execution_count": 5,
   "metadata": {},
   "outputs": [
    {
     "data": {
      "text/html": [
       "<div>\n",
       "<style scoped>\n",
       "    .dataframe tbody tr th:only-of-type {\n",
       "        vertical-align: middle;\n",
       "    }\n",
       "\n",
       "    .dataframe tbody tr th {\n",
       "        vertical-align: top;\n",
       "    }\n",
       "\n",
       "    .dataframe thead th {\n",
       "        text-align: right;\n",
       "    }\n",
       "</style>\n",
       "<table border=\"1\" class=\"dataframe\">\n",
       "  <thead>\n",
       "    <tr style=\"text-align: right;\">\n",
       "      <th></th>\n",
       "      <th>0</th>\n",
       "      <th>1</th>\n",
       "      <th>2</th>\n",
       "      <th>3</th>\n",
       "      <th>4</th>\n",
       "      <th>5</th>\n",
       "      <th>6</th>\n",
       "      <th>7</th>\n",
       "      <th>8</th>\n",
       "      <th>9</th>\n",
       "      <th>...</th>\n",
       "      <th>314</th>\n",
       "      <th>315</th>\n",
       "      <th>316</th>\n",
       "      <th>317</th>\n",
       "      <th>318</th>\n",
       "      <th>319</th>\n",
       "      <th>320</th>\n",
       "      <th>321</th>\n",
       "      <th>322</th>\n",
       "      <th>323</th>\n",
       "    </tr>\n",
       "  </thead>\n",
       "  <tbody>\n",
       "    <tr>\n",
       "      <th>0</th>\n",
       "      <td>1.839635</td>\n",
       "      <td>0.531987</td>\n",
       "      <td>0.628240</td>\n",
       "      <td>2.165189</td>\n",
       "      <td>-1.124198</td>\n",
       "      <td>-0.198475</td>\n",
       "      <td>-0.555218</td>\n",
       "      <td>-0.347634</td>\n",
       "      <td>-0.291180</td>\n",
       "      <td>0.338949</td>\n",
       "      <td>...</td>\n",
       "      <td>-0.190885</td>\n",
       "      <td>-0.187191</td>\n",
       "      <td>-0.067662</td>\n",
       "      <td>-0.036108</td>\n",
       "      <td>-0.092389</td>\n",
       "      <td>-0.025524</td>\n",
       "      <td>-0.057148</td>\n",
       "      <td>-0.288471</td>\n",
       "      <td>-0.051098</td>\n",
       "      <td>0.389133</td>\n",
       "    </tr>\n",
       "    <tr>\n",
       "      <th>1</th>\n",
       "      <td>-0.439985</td>\n",
       "      <td>-0.519838</td>\n",
       "      <td>-0.765227</td>\n",
       "      <td>2.165189</td>\n",
       "      <td>-0.696674</td>\n",
       "      <td>0.851277</td>\n",
       "      <td>-0.555218</td>\n",
       "      <td>-0.098234</td>\n",
       "      <td>0.584287</td>\n",
       "      <td>-0.557978</td>\n",
       "      <td>...</td>\n",
       "      <td>-0.190885</td>\n",
       "      <td>-0.187191</td>\n",
       "      <td>-0.067662</td>\n",
       "      <td>-0.036108</td>\n",
       "      <td>-0.092389</td>\n",
       "      <td>-0.025524</td>\n",
       "      <td>-0.057148</td>\n",
       "      <td>-0.288471</td>\n",
       "      <td>-0.051098</td>\n",
       "      <td>0.389133</td>\n",
       "    </tr>\n",
       "    <tr>\n",
       "      <th>2</th>\n",
       "      <td>0.772579</td>\n",
       "      <td>0.119061</td>\n",
       "      <td>1.324973</td>\n",
       "      <td>-0.509661</td>\n",
       "      <td>1.046307</td>\n",
       "      <td>0.946709</td>\n",
       "      <td>1.190625</td>\n",
       "      <td>1.547809</td>\n",
       "      <td>2.523241</td>\n",
       "      <td>2.325644</td>\n",
       "      <td>...</td>\n",
       "      <td>-0.190885</td>\n",
       "      <td>-0.187191</td>\n",
       "      <td>-0.067662</td>\n",
       "      <td>-0.036108</td>\n",
       "      <td>-0.092389</td>\n",
       "      <td>-0.025524</td>\n",
       "      <td>-0.057148</td>\n",
       "      <td>-0.288471</td>\n",
       "      <td>-0.051098</td>\n",
       "      <td>0.389133</td>\n",
       "    </tr>\n",
       "    <tr>\n",
       "      <th>3</th>\n",
       "      <td>-0.000785</td>\n",
       "      <td>0.354649</td>\n",
       "      <td>1.324973</td>\n",
       "      <td>1.273573</td>\n",
       "      <td>0.783215</td>\n",
       "      <td>0.517265</td>\n",
       "      <td>2.193304</td>\n",
       "      <td>-1.000610</td>\n",
       "      <td>-0.291180</td>\n",
       "      <td>1.516167</td>\n",
       "      <td>...</td>\n",
       "      <td>-0.190885</td>\n",
       "      <td>-0.187191</td>\n",
       "      <td>-0.067662</td>\n",
       "      <td>-0.036108</td>\n",
       "      <td>-0.092389</td>\n",
       "      <td>-0.025524</td>\n",
       "      <td>-0.057148</td>\n",
       "      <td>-0.288471</td>\n",
       "      <td>-0.051098</td>\n",
       "      <td>0.389133</td>\n",
       "    </tr>\n",
       "    <tr>\n",
       "      <th>4</th>\n",
       "      <td>-0.439985</td>\n",
       "      <td>-0.020554</td>\n",
       "      <td>-0.068494</td>\n",
       "      <td>1.273573</td>\n",
       "      <td>-1.025539</td>\n",
       "      <td>-1.629955</td>\n",
       "      <td>-0.555218</td>\n",
       "      <td>-1.000610</td>\n",
       "      <td>-0.291180</td>\n",
       "      <td>0.475731</td>\n",
       "      <td>...</td>\n",
       "      <td>-0.190885</td>\n",
       "      <td>-0.187191</td>\n",
       "      <td>-0.067662</td>\n",
       "      <td>-0.036108</td>\n",
       "      <td>-0.092389</td>\n",
       "      <td>-0.025524</td>\n",
       "      <td>-0.057148</td>\n",
       "      <td>-0.288471</td>\n",
       "      <td>-0.051098</td>\n",
       "      <td>0.389133</td>\n",
       "    </tr>\n",
       "  </tbody>\n",
       "</table>\n",
       "<p>5 rows × 324 columns</p>\n",
       "</div>"
      ],
      "text/plain": [
       "        0         1         2         3         4         5         6    \\\n",
       "0  1.839635  0.531987  0.628240  2.165189 -1.124198 -0.198475 -0.555218   \n",
       "1 -0.439985 -0.519838 -0.765227  2.165189 -0.696674  0.851277 -0.555218   \n",
       "2  0.772579  0.119061  1.324973 -0.509661  1.046307  0.946709  1.190625   \n",
       "3 -0.000785  0.354649  1.324973  1.273573  0.783215  0.517265  2.193304   \n",
       "4 -0.439985 -0.020554 -0.068494  1.273573 -1.025539 -1.629955 -0.555218   \n",
       "\n",
       "        7         8         9      ...          314       315       316  \\\n",
       "0 -0.347634 -0.291180  0.338949    ...    -0.190885 -0.187191 -0.067662   \n",
       "1 -0.098234  0.584287 -0.557978    ...    -0.190885 -0.187191 -0.067662   \n",
       "2  1.547809  2.523241  2.325644    ...    -0.190885 -0.187191 -0.067662   \n",
       "3 -1.000610 -0.291180  1.516167    ...    -0.190885 -0.187191 -0.067662   \n",
       "4 -1.000610 -0.291180  0.475731    ...    -0.190885 -0.187191 -0.067662   \n",
       "\n",
       "        317       318       319       320       321       322       323  \n",
       "0 -0.036108 -0.092389 -0.025524 -0.057148 -0.288471 -0.051098  0.389133  \n",
       "1 -0.036108 -0.092389 -0.025524 -0.057148 -0.288471 -0.051098  0.389133  \n",
       "2 -0.036108 -0.092389 -0.025524 -0.057148 -0.288471 -0.051098  0.389133  \n",
       "3 -0.036108 -0.092389 -0.025524 -0.057148 -0.288471 -0.051098  0.389133  \n",
       "4 -0.036108 -0.092389 -0.025524 -0.057148 -0.288471 -0.051098  0.389133  \n",
       "\n",
       "[5 rows x 324 columns]"
      ]
     },
     "execution_count": 5,
     "metadata": {},
     "output_type": "execute_result"
    }
   ],
   "source": [
    "X_train.head()           # Here, the applied scaling can be verified."
   ]
  },
  {
   "cell_type": "code",
   "execution_count": 6,
   "metadata": {},
   "outputs": [
    {
     "data": {
      "text/plain": [
       "0    181486.201823\n",
       "dtype: float64"
      ]
     },
     "execution_count": 6,
     "metadata": {},
     "output_type": "execute_result"
    }
   ],
   "source": [
    "np.mean(y_train)     # The model mean is calculated here."
   ]
  },
  {
   "cell_type": "markdown",
   "metadata": {},
   "source": [
    "### This confirms our baseline model, the mean of \\$ 181,486.20."
   ]
  },
  {
   "cell_type": "code",
   "execution_count": 7,
   "metadata": {},
   "outputs": [],
   "source": [
    "lm = LassoCV()"
   ]
  },
  {
   "cell_type": "code",
   "execution_count": 8,
   "metadata": {},
   "outputs": [
    {
     "name": "stderr",
     "output_type": "stream",
     "text": [
      "/Users/perry/anaconda3/lib/python3.6/site-packages/sklearn/linear_model/coordinate_descent.py:1094: DataConversionWarning: A column-vector y was passed when a 1d array was expected. Please change the shape of y to (n_samples, ), for example using ravel().\n",
      "  y = column_or_1d(y, warn=True)\n"
     ]
    },
    {
     "data": {
      "text/plain": [
       "LassoCV(alphas=None, copy_X=True, cv=None, eps=0.001, fit_intercept=True,\n",
       "    max_iter=1000, n_alphas=100, n_jobs=1, normalize=False, positive=False,\n",
       "    precompute='auto', random_state=None, selection='cyclic', tol=0.0001,\n",
       "    verbose=False)"
      ]
     },
     "execution_count": 8,
     "metadata": {},
     "output_type": "execute_result"
    }
   ],
   "source": [
    "lm.fit(X_train, y_train)"
   ]
  },
  {
   "cell_type": "code",
   "execution_count": 9,
   "metadata": {},
   "outputs": [
    {
     "data": {
      "text/plain": [
       "0.9369588826063185"
      ]
     },
     "execution_count": 9,
     "metadata": {},
     "output_type": "execute_result"
    }
   ],
   "source": [
    "lm.score(X_train, y_train)"
   ]
  },
  {
   "cell_type": "code",
   "execution_count": 10,
   "metadata": {},
   "outputs": [
    {
     "data": {
      "text/plain": [
       "0.9334452224099693"
      ]
     },
     "execution_count": 10,
     "metadata": {},
     "output_type": "execute_result"
    }
   ],
   "source": [
    "lm.score(X_test, y_test)"
   ]
  },
  {
   "cell_type": "markdown",
   "metadata": {},
   "source": [
    "### The model picked the best alpha hyperparameter to be about 447."
   ]
  },
  {
   "cell_type": "code",
   "execution_count": 11,
   "metadata": {},
   "outputs": [
    {
     "data": {
      "text/plain": [
       "447.4109227447246"
      ]
     },
     "execution_count": 11,
     "metadata": {},
     "output_type": "execute_result"
    }
   ],
   "source": [
    "lm.alpha_"
   ]
  },
  {
   "cell_type": "code",
   "execution_count": 12,
   "metadata": {},
   "outputs": [],
   "source": [
    "with open('../data/columns.pkl', 'rb') as f:\n",
    "    columns = pickle.load(f)"
   ]
  },
  {
   "cell_type": "markdown",
   "metadata": {},
   "source": [
    "### Load the saved column headers and calculate the beta-coefficients for each feature."
   ]
  },
  {
   "cell_type": "code",
   "execution_count": 13,
   "metadata": {},
   "outputs": [],
   "source": [
    "betas = pd.DataFrame(lm.coef_, index=columns)"
   ]
  },
  {
   "cell_type": "code",
   "execution_count": 14,
   "metadata": {},
   "outputs": [
    {
     "data": {
      "text/html": [
       "<div>\n",
       "<style scoped>\n",
       "    .dataframe tbody tr th:only-of-type {\n",
       "        vertical-align: middle;\n",
       "    }\n",
       "\n",
       "    .dataframe tbody tr th {\n",
       "        vertical-align: top;\n",
       "    }\n",
       "\n",
       "    .dataframe thead th {\n",
       "        text-align: right;\n",
       "    }\n",
       "</style>\n",
       "<table border=\"1\" class=\"dataframe\">\n",
       "  <thead>\n",
       "    <tr style=\"text-align: right;\">\n",
       "      <th></th>\n",
       "      <th>0</th>\n",
       "    </tr>\n",
       "  </thead>\n",
       "  <tbody>\n",
       "    <tr>\n",
       "      <th>LotFrontage</th>\n",
       "      <td>966.236723</td>\n",
       "    </tr>\n",
       "    <tr>\n",
       "      <th>LotArea</th>\n",
       "      <td>4085.362189</td>\n",
       "    </tr>\n",
       "    <tr>\n",
       "      <th>OverallQual</th>\n",
       "      <td>10078.355467</td>\n",
       "    </tr>\n",
       "    <tr>\n",
       "      <th>OverallCond</th>\n",
       "      <td>5012.733199</td>\n",
       "    </tr>\n",
       "    <tr>\n",
       "      <th>YearBuilt</th>\n",
       "      <td>7749.189309</td>\n",
       "    </tr>\n",
       "  </tbody>\n",
       "</table>\n",
       "</div>"
      ],
      "text/plain": [
       "                        0\n",
       "LotFrontage    966.236723\n",
       "LotArea       4085.362189\n",
       "OverallQual  10078.355467\n",
       "OverallCond   5012.733199\n",
       "YearBuilt     7749.189309"
      ]
     },
     "execution_count": 14,
     "metadata": {},
     "output_type": "execute_result"
    }
   ],
   "source": [
    "betas.head()"
   ]
  },
  {
   "cell_type": "code",
   "execution_count": 15,
   "metadata": {},
   "outputs": [],
   "source": [
    "betas.columns = ['weights']"
   ]
  },
  {
   "cell_type": "code",
   "execution_count": 16,
   "metadata": {},
   "outputs": [],
   "source": [
    "betas['abs_w'] = betas.weights.abs()"
   ]
  },
  {
   "cell_type": "markdown",
   "metadata": {},
   "source": [
    "### The beta-0 price-intercept is calculated here."
   ]
  },
  {
   "cell_type": "code",
   "execution_count": 17,
   "metadata": {},
   "outputs": [],
   "source": [
    "beta_0 = lm.intercept_"
   ]
  },
  {
   "cell_type": "code",
   "execution_count": 18,
   "metadata": {},
   "outputs": [],
   "source": [
    "weights = betas.sort_values('abs_w', ascending=False)['weights'].head(20)"
   ]
  },
  {
   "cell_type": "code",
   "execution_count": 19,
   "metadata": {},
   "outputs": [],
   "source": [
    "labels = weights.index"
   ]
  },
  {
   "cell_type": "code",
   "execution_count": 20,
   "metadata": {
    "scrolled": false
   },
   "outputs": [
    {
     "data": {
      "image/png": "[encoded data removed]",
      "text/plain": [
       "<Figure size 1440x720 with 1 Axes>"
      ]
     },
     "metadata": {},
     "output_type": "display_data"
    }
   ],
   "source": [
    "plt.figure(figsize=(20,10))\n",
    "plt.barh(labels, weights)\n",
    "plt.yticks(fontsize=20)\n",
    "plt.xticks(fontsize=20)\n",
    "plt.xlabel('Weights', fontsize=30)\n",
    "plt.title(f'Most Important Features and Weights\\ny intercept: ${beta_0:0.02f}', fontsize=42)\n",
    "plt.tight_layout()"
   ]
  },
  {
   "cell_type": "markdown",
   "metadata": {},
   "source": [
    "# Chart of Coefficients for the best feature predictors; Ground-Living-Area has by far the most important feature pridicting home price."
   ]
  },
  {
   "cell_type": "code",
   "execution_count": 21,
   "metadata": {},
   "outputs": [],
   "source": [
    "removed_feats = list(betas[betas['weights'] == 0].index)"
   ]
  },
  {
   "cell_type": "markdown",
   "metadata": {},
   "source": [
    "### 183 features dropped by the Lasso-regularization process."
   ]
  },
  {
   "cell_type": "code",
   "execution_count": 22,
   "metadata": {},
   "outputs": [
    {
     "name": "stdout",
     "output_type": "stream",
     "text": [
      "BsmtUnfSF\n",
      "1stFlrSF\n",
      "2ndFlrSF\n",
      "BsmtHalfBath\n",
      "OpenPorchSF\n",
      "EnclosedPorch\n",
      "3SsnPorch\n",
      "PoolArea\n",
      "MiscVal\n",
      "YrSold\n",
      "MSSubClass_20\n",
      "MSSubClass_40\n",
      "MSSubClass_50\n",
      "MSSubClass_60\n",
      "MSSubClass_70\n",
      "MSSubClass_80\n",
      "MSSubClass_85\n",
      "MSSubClass_90\n",
      "MSSubClass_150\n",
      "MSSubClass_160\n",
      "MSSubClass_180\n",
      "MSSubClass_190\n",
      "MSZoning_A (agr)\n",
      "MSZoning_I (all)\n",
      "MSZoning_RH\n",
      "MSZoning_RL\n",
      "Alley_Grvl\n",
      "Alley_None\n",
      "Alley_Pave\n",
      "LotShape_IR1\n",
      "LotShape_Reg\n",
      "LandContour_Low\n",
      "LandContour_Lvl\n",
      "LotConfig_Corner\n",
      "LotConfig_Inside\n",
      "LandSlope_Gtl\n",
      "LandSlope_Mod\n",
      "LandSlope_Sev\n",
      "Neighborhood_Blmngtn\n",
      "Neighborhood_Blueste\n",
      "Neighborhood_BrDale\n",
      "Neighborhood_ClearCr\n",
      "Neighborhood_CollgCr\n",
      "Neighborhood_Greens\n",
      "Neighborhood_IDOTRR\n",
      "Neighborhood_Landmrk\n",
      "Neighborhood_MeadowV\n",
      "Neighborhood_Mitchel\n",
      "Neighborhood_SWISU\n",
      "Neighborhood_Sawyer\n",
      "Neighborhood_SawyerW\n",
      "Neighborhood_Timber\n",
      "Condition1_Feedr\n",
      "Condition1_PosA\n",
      "Condition1_RRAn\n",
      "Condition1_RRNe\n",
      "Condition2_Feedr\n",
      "Condition2_Norm\n",
      "Condition2_RRAe\n",
      "Condition2_RRAn\n",
      "Condition2_RRNn\n",
      "BldgType_2fmCon\n",
      "BldgType_Duplex\n",
      "BldgType_Twnhs\n",
      "HouseStyle_1.5Fin\n",
      "HouseStyle_1.5Unf\n",
      "HouseStyle_1Story\n",
      "HouseStyle_2.5Fin\n",
      "HouseStyle_2.5Unf\n",
      "HouseStyle_2Story\n",
      "HouseStyle_SLvl\n",
      "RoofStyle_Flat\n",
      "RoofStyle_Gable\n",
      "RoofStyle_Gambrel\n",
      "RoofStyle_Shed\n",
      "RoofMatl_CompShg\n",
      "RoofMatl_Tar&Grv\n",
      "RoofMatl_WdShake\n",
      "Exterior1st_AsbShng\n",
      "Exterior1st_AsphShn\n",
      "Exterior1st_CBlock\n",
      "Exterior1st_ImStucc\n",
      "Exterior1st_MetalSd\n",
      "Exterior1st_Plywood\n",
      "Exterior1st_Stone\n",
      "Exterior1st_Stucco\n",
      "Exterior1st_Wd Sdng\n",
      "Exterior1st_WdShing\n",
      "Exterior2nd_AsbShng\n",
      "Exterior2nd_Brk Cmn\n",
      "Exterior2nd_BrkFace\n",
      "Exterior2nd_CBlock\n",
      "Exterior2nd_CmentBd\n",
      "Exterior2nd_HdBoard\n",
      "Exterior2nd_ImStucc\n",
      "Exterior2nd_MetalSd\n",
      "Exterior2nd_Stone\n",
      "Exterior2nd_Stucco\n",
      "Exterior2nd_Wd Sdng\n",
      "Exterior2nd_Wd Shng\n",
      "MasVnrType_None\n",
      "ExterQual_Fa\n",
      "ExterQual_Gd\n",
      "ExterCond_Ex\n",
      "ExterCond_Fa\n",
      "ExterCond_Gd\n",
      "ExterCond_Po\n",
      "ExterCond_TA\n",
      "Foundation_BrkTil\n",
      "Foundation_Slab\n",
      "Foundation_Stone\n",
      "Foundation_Wood\n",
      "BsmtQual_Gd\n",
      "BsmtQual_Po\n",
      "BsmtQual_TA\n",
      "BsmtCond_Gd\n",
      "BsmtCond_Po\n",
      "BsmtCond_TA\n",
      "BsmtExposure_Av\n",
      "BsmtExposure_None\n",
      "BsmtFinType1_ALQ\n",
      "BsmtFinType1_BLQ\n",
      "BsmtFinType1_Rec\n",
      "BsmtFinType1_Unf\n",
      "BsmtFinType2_BLQ\n",
      "BsmtFinType2_LwQ\n",
      "BsmtFinType2_No_basement\n",
      "BsmtFinType2_Rec\n",
      "BsmtFinType2_Unf\n",
      "Heating_GasW\n",
      "Heating_Wall\n",
      "HeatingQC_Fa\n",
      "HeatingQC_Gd\n",
      "Electrical_FuseA\n",
      "Electrical_FuseF\n",
      "Electrical_FuseP\n",
      "Electrical_Mix\n",
      "Electrical_SBrkr\n",
      "KitchenQual_Fa\n",
      "KitchenQual_Gd\n",
      "Functional_Maj2\n",
      "Functional_Min1\n",
      "Functional_Min2\n",
      "Functional_Sev\n",
      "FireplaceQu_Gd\n",
      "FireplaceQu_None\n",
      "FireplaceQu_TA\n",
      "GarageType_Attchd\n",
      "GarageType_CarPort\n",
      "GarageType_Detchd\n",
      "GarageType_None\n",
      "GarageFinish_None\n",
      "GarageFinish_Unf\n",
      "GarageQual_Fa\n",
      "GarageQual_None\n",
      "GarageQual_Po\n",
      "GarageQual_TA\n",
      "GarageCond_Fa\n",
      "GarageCond_Gd\n",
      "GarageCond_None\n",
      "GarageCond_Po\n",
      "GarageCond_TA\n",
      "PavedDrive_N\n",
      "PoolQC_Ex\n",
      "PoolQC_Fa\n",
      "PoolQC_None\n",
      "PoolQC_TA\n",
      "Fence_GdPrv\n",
      "Fence_MnPrv\n",
      "Fence_None\n",
      "MiscFeature_Gar2\n",
      "MiscFeature_None\n",
      "MiscFeature_Shed\n",
      "MoSold_3\n",
      "MoSold_4\n",
      "MoSold_6\n",
      "MoSold_8\n",
      "MoSold_9\n",
      "MoSold_10\n",
      "MoSold_11\n",
      "SaleType_CWD\n",
      "SaleType_ConLw\n",
      "SaleType_WD \n"
     ]
    }
   ],
   "source": [
    "for feat in removed_feats:\n",
    "    print(feat)"
   ]
  },
  {
   "cell_type": "code",
   "execution_count": 23,
   "metadata": {},
   "outputs": [],
   "source": [
    "with open('../data/lasso.pkl', 'wb+') as f:\n",
    "    pickle.dump(lm, f)"
   ]
  },
  {
   "cell_type": "markdown",
   "metadata": {},
   "source": [
    "# Model-B (3. Ridge)"
   ]
  },
  {
   "cell_type": "markdown",
   "metadata": {},
   "source": [
    "### This is the last of the three required models."
   ]
  },
  {
   "cell_type": "code",
   "execution_count": 24,
   "metadata": {},
   "outputs": [],
   "source": [
    "from sklearn.linear_model import Ridge"
   ]
  },
  {
   "cell_type": "code",
   "execution_count": 25,
   "metadata": {},
   "outputs": [],
   "source": [
    "lm2 = RidgeCV()"
   ]
  },
  {
   "cell_type": "code",
   "execution_count": 26,
   "metadata": {},
   "outputs": [],
   "source": [
    "def ridge_coefs(X, Y, alphas):\n",
    "    \n",
    "    # set up the list to hold the different sets of coefficients:\n",
    "    coefs = []\n",
    "    \n",
    "    # Set up a ridge regression object\n",
    "    ridge_reg = Ridge()\n",
    "    \n",
    "    # Iterate through the alphas fed into the function:\n",
    "    for a in alphas:\n",
    "        \n",
    "        # On each alpha reset the ridge model's alpha to the current one:\n",
    "        ridge_reg.set_params(alpha = a)\n",
    "        \n",
    "        # fit or refit the model on the provided X, Y\n",
    "        ridge_reg.fit(X,Y)\n",
    "        \n",
    "        # Get out the coefficient list\n",
    "        coefs.append(ridge_reg.coef_)\n",
    "        \n",
    "    return coefs"
   ]
  },
  {
   "cell_type": "code",
   "execution_count": 27,
   "metadata": {},
   "outputs": [],
   "source": [
    "# np.logspace gives us points between specified orders of magnitude on a logarithmic scale. It is base 10.\n",
    "r_alphas = np.logspace(0,5,200)\n",
    "\n",
    "# Get the coefficients for each alpha for the Ridge, using the function above\n",
    "r_coefs = ridge_coefs(X_train, y_train, r_alphas)"
   ]
  },
  {
   "cell_type": "code",
   "execution_count": 28,
   "metadata": {},
   "outputs": [
    {
     "data": {
      "text/plain": [
       "RidgeCV(alphas=(0.1, 1.0, 10.0), cv=None, fit_intercept=True, gcv_mode=None,\n",
       "    normalize=False, scoring=None, store_cv_values=False)"
      ]
     },
     "execution_count": 28,
     "metadata": {},
     "output_type": "execute_result"
    }
   ],
   "source": [
    "lm2.fit(X_train, y_train)"
   ]
  },
  {
   "cell_type": "code",
   "execution_count": 29,
   "metadata": {},
   "outputs": [
    {
     "data": {
      "text/plain": [
       "0.9440717576480293"
      ]
     },
     "execution_count": 29,
     "metadata": {},
     "output_type": "execute_result"
    }
   ],
   "source": [
    "lm2.score(X_train,y_train)"
   ]
  },
  {
   "cell_type": "code",
   "execution_count": 30,
   "metadata": {},
   "outputs": [
    {
     "data": {
      "text/plain": [
       "0.9304830681808789"
      ]
     },
     "execution_count": 30,
     "metadata": {},
     "output_type": "execute_result"
    }
   ],
   "source": [
    "lm2.score(X_test, y_test)"
   ]
  },
  {
   "cell_type": "markdown",
   "metadata": {},
   "source": [
    "## The similarity between the the train- and test-scores (within 2%) reflects a model that appears to generalize well and to make good price predictions."
   ]
  },
  {
   "cell_type": "code",
   "execution_count": 31,
   "metadata": {},
   "outputs": [
    {
     "data": {
      "text/plain": [
       "(1, 324)"
      ]
     },
     "execution_count": 31,
     "metadata": {},
     "output_type": "execute_result"
    }
   ],
   "source": [
    "lm2.coef_.shape"
   ]
  },
  {
   "cell_type": "code",
   "execution_count": 32,
   "metadata": {},
   "outputs": [
    {
     "data": {
      "text/plain": [
       "324"
      ]
     },
     "execution_count": 32,
     "metadata": {},
     "output_type": "execute_result"
    }
   ],
   "source": [
    "len(columns)"
   ]
  },
  {
   "cell_type": "code",
   "execution_count": 33,
   "metadata": {},
   "outputs": [],
   "source": [
    "betas_R = pd.DataFrame(lm2.coef_, columns=columns).T"
   ]
  },
  {
   "cell_type": "code",
   "execution_count": 34,
   "metadata": {},
   "outputs": [
    {
     "data": {
      "text/html": [
       "<div>\n",
       "<style scoped>\n",
       "    .dataframe tbody tr th:only-of-type {\n",
       "        vertical-align: middle;\n",
       "    }\n",
       "\n",
       "    .dataframe tbody tr th {\n",
       "        vertical-align: top;\n",
       "    }\n",
       "\n",
       "    .dataframe thead th {\n",
       "        text-align: right;\n",
       "    }\n",
       "</style>\n",
       "<table border=\"1\" class=\"dataframe\">\n",
       "  <thead>\n",
       "    <tr style=\"text-align: right;\">\n",
       "      <th></th>\n",
       "      <th>0</th>\n",
       "    </tr>\n",
       "  </thead>\n",
       "  <tbody>\n",
       "    <tr>\n",
       "      <th>LotFrontage</th>\n",
       "      <td>2299.558432</td>\n",
       "    </tr>\n",
       "    <tr>\n",
       "      <th>LotArea</th>\n",
       "      <td>4727.630646</td>\n",
       "    </tr>\n",
       "    <tr>\n",
       "      <th>OverallQual</th>\n",
       "      <td>8309.728573</td>\n",
       "    </tr>\n",
       "    <tr>\n",
       "      <th>OverallCond</th>\n",
       "      <td>6420.780915</td>\n",
       "    </tr>\n",
       "    <tr>\n",
       "      <th>YearBuilt</th>\n",
       "      <td>11739.032510</td>\n",
       "    </tr>\n",
       "  </tbody>\n",
       "</table>\n",
       "</div>"
      ],
      "text/plain": [
       "                        0\n",
       "LotFrontage   2299.558432\n",
       "LotArea       4727.630646\n",
       "OverallQual   8309.728573\n",
       "OverallCond   6420.780915\n",
       "YearBuilt    11739.032510"
      ]
     },
     "execution_count": 34,
     "metadata": {},
     "output_type": "execute_result"
    }
   ],
   "source": [
    "betas_R.head()"
   ]
  },
  {
   "cell_type": "code",
   "execution_count": 35,
   "metadata": {},
   "outputs": [
    {
     "data": {
      "text/plain": [
       "183"
      ]
     },
     "execution_count": 35,
     "metadata": {},
     "output_type": "execute_result"
    }
   ],
   "source": [
    "betas_R.columns = ['weights']\n",
    "len(list(betas[betas['weights'] == 0].index))"
   ]
  },
  {
   "cell_type": "markdown",
   "metadata": {},
   "source": [
    "## Here we calculate the beta-0 (intercept) and the feature coefficients."
   ]
  },
  {
   "cell_type": "code",
   "execution_count": 36,
   "metadata": {},
   "outputs": [],
   "source": [
    "betaR_0 = lm.intercept_"
   ]
  },
  {
   "cell_type": "code",
   "execution_count": 37,
   "metadata": {},
   "outputs": [
    {
     "data": {
      "text/html": [
       "<div>\n",
       "<style scoped>\n",
       "    .dataframe tbody tr th:only-of-type {\n",
       "        vertical-align: middle;\n",
       "    }\n",
       "\n",
       "    .dataframe tbody tr th {\n",
       "        vertical-align: top;\n",
       "    }\n",
       "\n",
       "    .dataframe thead th {\n",
       "        text-align: right;\n",
       "    }\n",
       "</style>\n",
       "<table border=\"1\" class=\"dataframe\">\n",
       "  <thead>\n",
       "    <tr style=\"text-align: right;\">\n",
       "      <th></th>\n",
       "      <th>weights</th>\n",
       "    </tr>\n",
       "  </thead>\n",
       "  <tbody>\n",
       "    <tr>\n",
       "      <th>GrLivArea</th>\n",
       "      <td>14294.207110</td>\n",
       "    </tr>\n",
       "    <tr>\n",
       "      <th>YearBuilt</th>\n",
       "      <td>11739.032510</td>\n",
       "    </tr>\n",
       "    <tr>\n",
       "      <th>2ndFlrSF</th>\n",
       "      <td>10411.628004</td>\n",
       "    </tr>\n",
       "    <tr>\n",
       "      <th>TotalBsmtSF</th>\n",
       "      <td>10140.822486</td>\n",
       "    </tr>\n",
       "    <tr>\n",
       "      <th>BsmtFinSF1</th>\n",
       "      <td>8982.256213</td>\n",
       "    </tr>\n",
       "  </tbody>\n",
       "</table>\n",
       "</div>"
      ],
      "text/plain": [
       "                  weights\n",
       "GrLivArea    14294.207110\n",
       "YearBuilt    11739.032510\n",
       "2ndFlrSF     10411.628004\n",
       "TotalBsmtSF  10140.822486\n",
       "BsmtFinSF1    8982.256213"
      ]
     },
     "execution_count": 37,
     "metadata": {},
     "output_type": "execute_result"
    }
   ],
   "source": [
    "weights_R = betas_R.sort_values('weights', ascending=False).head(20)\n",
    "weights_R.head()"
   ]
  },
  {
   "cell_type": "code",
   "execution_count": 38,
   "metadata": {},
   "outputs": [],
   "source": [
    "labels_R = weights_R.index"
   ]
  },
  {
   "cell_type": "code",
   "execution_count": 39,
   "metadata": {},
   "outputs": [
    {
     "data": {
      "text/plain": [
       "array([14294.20711035, 11739.03250978, 10411.62800424, 10140.82248598,\n",
       "        8982.2562135 ,  8309.72857274,  6724.87544964,  6420.78091482,\n",
       "        5147.06307145,  4974.32471599,  4908.78571674,  4727.63064559,\n",
       "        4702.11185241,  4457.37864007,  3839.26248556,  3675.2373056 ,\n",
       "        3565.94516116,  3404.83752133,  3269.20685438,  3227.00848452])"
      ]
     },
     "execution_count": 39,
     "metadata": {},
     "output_type": "execute_result"
    }
   ],
   "source": [
    "weights_R.weights.values"
   ]
  },
  {
   "cell_type": "code",
   "execution_count": 40,
   "metadata": {},
   "outputs": [
    {
     "data": {
      "image/png": "[encoded data removed]",
      "text/plain": [
       "<Figure size 1440x720 with 1 Axes>"
      ]
     },
     "metadata": {},
     "output_type": "display_data"
    }
   ],
   "source": [
    "plt.figure(figsize=(20,10))\n",
    "plt.barh(labels_R, weights_R.weights.values)\n",
    "plt.yticks(fontsize=20)\n",
    "plt.xticks(fontsize=20)\n",
    "plt.xlabel('Weights_Ridge', fontsize=30)\n",
    "plt.title(f'Most Important Features and Weights\\ny intercept: ${beta_0:0.02f}', fontsize=42)\n",
    "plt.tight_layout()"
   ]
  },
  {
   "cell_type": "markdown",
   "metadata": {},
   "source": [
    "### Tentative submission based on a slightly better regression-score for this Ridge model.  Kaggle evaluated the Lasso model above as superior."
   ]
  },
  {
   "cell_type": "code",
   "execution_count": 41,
   "metadata": {},
   "outputs": [],
   "source": [
    "kag_index_R = kaggle.index"
   ]
  },
  {
   "cell_type": "code",
   "execution_count": 42,
   "metadata": {},
   "outputs": [],
   "source": [
    "kaggle_R = sc.transform(kaggle)"
   ]
  },
  {
   "cell_type": "code",
   "execution_count": 43,
   "metadata": {},
   "outputs": [],
   "source": [
    "predictors_R = lm2.predict(kaggle_R)"
   ]
  },
  {
   "cell_type": "code",
   "execution_count": 44,
   "metadata": {},
   "outputs": [],
   "source": [
    "submission_R = pd.DataFrame(predictors_R, index=kag_index_R, columns=['SalePrice'])"
   ]
  },
  {
   "cell_type": "code",
   "execution_count": 45,
   "metadata": {},
   "outputs": [],
   "source": [
    "submission_R.sort_index(inplace=True)"
   ]
  },
  {
   "cell_type": "code",
   "execution_count": 46,
   "metadata": {},
   "outputs": [
    {
     "data": {
      "text/html": [
       "<div>\n",
       "<style scoped>\n",
       "    .dataframe tbody tr th:only-of-type {\n",
       "        vertical-align: middle;\n",
       "    }\n",
       "\n",
       "    .dataframe tbody tr th {\n",
       "        vertical-align: top;\n",
       "    }\n",
       "\n",
       "    .dataframe thead th {\n",
       "        text-align: right;\n",
       "    }\n",
       "</style>\n",
       "<table border=\"1\" class=\"dataframe\">\n",
       "  <thead>\n",
       "    <tr style=\"text-align: right;\">\n",
       "      <th></th>\n",
       "      <th>SalePrice</th>\n",
       "    </tr>\n",
       "    <tr>\n",
       "      <th>Id</th>\n",
       "      <th></th>\n",
       "    </tr>\n",
       "  </thead>\n",
       "  <tbody>\n",
       "    <tr>\n",
       "      <th>2</th>\n",
       "      <td>131839.579111</td>\n",
       "    </tr>\n",
       "    <tr>\n",
       "      <th>4</th>\n",
       "      <td>282139.580758</td>\n",
       "    </tr>\n",
       "    <tr>\n",
       "      <th>6</th>\n",
       "      <td>194299.730526</td>\n",
       "    </tr>\n",
       "    <tr>\n",
       "      <th>7</th>\n",
       "      <td>217996.589558</td>\n",
       "    </tr>\n",
       "    <tr>\n",
       "      <th>17</th>\n",
       "      <td>218127.680055</td>\n",
       "    </tr>\n",
       "  </tbody>\n",
       "</table>\n",
       "</div>"
      ],
      "text/plain": [
       "        SalePrice\n",
       "Id               \n",
       "2   131839.579111\n",
       "4   282139.580758\n",
       "6   194299.730526\n",
       "7   217996.589558\n",
       "17  218127.680055"
      ]
     },
     "execution_count": 46,
     "metadata": {},
     "output_type": "execute_result"
    }
   ],
   "source": [
    "submission_R.head()"
   ]
  },
  {
   "cell_type": "code",
   "execution_count": 47,
   "metadata": {},
   "outputs": [],
   "source": [
    "submission_R.to_csv('../data/submission_rcv.csv')"
   ]
  },
  {
   "cell_type": "markdown",
   "metadata": {},
   "source": [
    "# Discussion"
   ]
  },
  {
   "cell_type": "code",
   "execution_count": 48,
   "metadata": {},
   "outputs": [],
   "source": [
    "def md_coef_table(labels, weights):\n",
    "    print('| feature | weight |\\n| --- | --- |')\n",
    "    for i in range(len(labels)):\n",
    "        print(f'| {labels[i]} | {weights[i]} |')"
   ]
  },
  {
   "cell_type": "code",
   "execution_count": 49,
   "metadata": {},
   "outputs": [
    {
     "name": "stdout",
     "output_type": "stream",
     "text": [
      "| feature | weight |\n",
      "| --- | --- |\n",
      "| GrLivArea | 14294.207110352603 |\n",
      "| OverallQual | 11739.032509777811 |\n",
      "| TotalBsmtSF | 10411.628004244918 |\n",
      "| YearBuilt | 10140.822485979115 |\n",
      "| BsmtFinSF1 | 8982.256213496963 |\n"
     ]
    }
   ],
   "source": [
    "md_coef_table(labels[:5], weights_R['weights'][:5])"
   ]
  },
  {
   "cell_type": "markdown",
   "metadata": {},
   "source": [
    "| feature | Lasso-Coefficients |\n",
    "| --- | --- |\n",
    "| GrLivArea | 14847.277369476242 |\n",
    "| OverallQual | 13173.366705095634 |\n",
    "| TotalBsmtSF | 11194.454666543885 |\n",
    "| YearBuilt | 10443.239232155505 |\n",
    "| BsmtFinSF1 | 9208.239831709307 |"
   ]
  },
  {
   "cell_type": "markdown",
   "metadata": {},
   "source": [
    "### For Lasso regularization, 'OverallQual' was captured as a major predictor.  "
   ]
  },
  {
   "cell_type": "code",
   "execution_count": 50,
   "metadata": {},
   "outputs": [
    {
     "name": "stdout",
     "output_type": "stream",
     "text": [
      "| feature | weight |\n",
      "| --- | --- |\n",
      "| GrLivArea | 14294.207110352603 |\n",
      "| YearBuilt | 11739.032509777811 |\n",
      "| 2ndFlrSF | 10411.628004244918 |\n",
      "| TotalBsmtSF | 10140.822485979115 |\n",
      "| BsmtFinSF1 | 8982.256213496963 |\n"
     ]
    }
   ],
   "source": [
    "md_coef_table(labels_R[:5], weights_R['weights'][:5])"
   ]
  },
  {
   "cell_type": "markdown",
   "metadata": {},
   "source": [
    "| feature | Ridge-Coefficients |\n",
    "| --- | --- |\n",
    "| GrLivArea | 14847.277369476242 |\n",
    "| YearBuilt | 13173.366705095634 |\n",
    "| 2ndFlrSF | 11194.454666543885 |\n",
    "| TotalBsmtSF | 10443.239232155505 |\n",
    "| BsmtFinSF1 | 9208.239831709307 |"
   ]
  },
  {
   "cell_type": "markdown",
   "metadata": {},
   "source": [
    "### For Ridge regularization, '2ndFlrSF' was captured as a major predictor.  '2ndFlrSF' was not among the top-20 Lasso predictors."
   ]
  },
  {
   "cell_type": "markdown",
   "metadata": {},
   "source": [
    "# Save these models."
   ]
  },
  {
   "cell_type": "code",
   "execution_count": 51,
   "metadata": {},
   "outputs": [],
   "source": [
    "with open('../data/ridge.pkl', 'wb+') as f:\n",
    "    pickle.dump(lm2, f)"
   ]
  },
  {
   "cell_type": "code",
   "execution_count": null,
   "metadata": {},
   "outputs": [],
   "source": []
  },
  {
   "cell_type": "markdown",
   "metadata": {},
   "source": [
    "# Please continue to Notebook-4."
   ]
  }
 ],
 "metadata": {
  "kernelspec": {
   "display_name": "Python 3",
   "language": "python",
   "name": "python3"
  },
  "language_info": {
   "codemirror_mode": {
    "name": "ipython",
    "version": 3
   },
   "file_extension": ".py",
   "mimetype": "text/x-python",
   "name": "python",
   "nbconvert_exporter": "python",
   "pygments_lexer": "ipython3",
   "version": "3.6.5"
  }
 },
 "nbformat": 4,
 "nbformat_minor": 2
}
