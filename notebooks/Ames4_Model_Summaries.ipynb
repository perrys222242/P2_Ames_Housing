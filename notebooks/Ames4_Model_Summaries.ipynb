{
 "cells": [
  {
   "cell_type": "markdown",
   "metadata": {},
   "source": [
    "# Summary Metrics of Modeling"
   ]
  },
  {
   "cell_type": "code",
   "execution_count": 132,
   "metadata": {},
   "outputs": [],
   "source": [
    "import math\n",
    "import csv\n",
    "import pickle\n",
    "import numpy as np\n",
    "import pandas as pd\n",
    "import seaborn as sns\n",
    "import matplotlib.pyplot as plt\n",
    "\n",
    "from sklearn import linear_model\n",
    "from sklearn.metrics import mean_squared_error\n",
    "from sklearn.metrics import median_absolute_error, mean_absolute_error\n",
    "import statsmodels.api as sm\n",
    "from sklearn.metrics import r2_score\n",
    "\n",
    "from sklearn.model_selection import train_test_split, KFold, cross_val_score\n",
    "from sklearn.linear_model import LinearRegression\n",
    "from sklearn.linear_model import Lasso, LassoCV, Ridge\n",
    "from sklearn.preprocessing import StandardScaler, PolynomialFeatures\n",
    "\n",
    "%matplotlib inline"
   ]
  },
  {
   "cell_type": "markdown",
   "metadata": {},
   "source": [
    "### Import libraries"
   ]
  },
  {
   "cell_type": "code",
   "execution_count": 133,
   "metadata": {},
   "outputs": [],
   "source": [
    "with open('../data/lasso.pkl', 'rb') as f:\n",
    "    lm = pickle.load(f)"
   ]
  },
  {
   "cell_type": "code",
   "execution_count": 134,
   "metadata": {},
   "outputs": [],
   "source": [
    "with open('../data/ridge.pkl', 'rb') as f:\n",
    "    lm2 = pickle.load(f)"
   ]
  },
  {
   "cell_type": "code",
   "execution_count": 135,
   "metadata": {},
   "outputs": [],
   "source": [
    "with open('../data/scaler.pkl', 'rb') as f:\n",
    "    sc = pickle.load(f)"
   ]
  },
  {
   "cell_type": "code",
   "execution_count": 136,
   "metadata": {},
   "outputs": [],
   "source": [
    "with open('../data/lin_reg.pkl', 'rb') as f:\n",
    "    lr = pickle.load(f)"
   ]
  },
  {
   "cell_type": "markdown",
   "metadata": {},
   "source": [
    "### Import models and data"
   ]
  },
  {
   "cell_type": "code",
   "execution_count": 137,
   "metadata": {},
   "outputs": [],
   "source": [
    "X_train = pd.read_csv('../data/X_train_dum_sc.csv', header=None)\n",
    "X_test = pd.read_csv('../data/X_test_dum_sc.csv', header=None)\n",
    "y_train = pd.read_csv('../data/y_train.csv', header=None)\n",
    "y_test = pd.read_csv('../data/y_test.csv', header=None)"
   ]
  },
  {
   "cell_type": "markdown",
   "metadata": {},
   "source": [
    "### Calculate regression metrics for linear-regression model, including model-score/R^2, mean-squared error, root-mean-squared error, mean-absolute error, median-absolute error."
   ]
  },
  {
   "cell_type": "code",
   "execution_count": 138,
   "metadata": {},
   "outputs": [],
   "source": [
    "lr = LinearRegression()\n",
    "model_lr = lr.fit(X_train,y_train)\n",
    "score1 = model_lr.score(X_train,y_train)\n",
    "y_hat_lr = model_lr.predict(X_train)\n",
    "mse1=mean_squared_error(y_train, y_hat_lr)\n",
    "rmse1=np.sqrt(mean_squared_error(y_train, y_hat_lr))\n",
    "meae1 = mean_absolute_error(y_train, y_hat_lr)\n",
    "mdae1 = median_absolute_error(y_train, y_hat_lr)\n",
    "X_train['y_hat_lr'] = lr.predict(X_train)\n",
    "r2_1 = r2_score(y_train, y_hat_lr)"
   ]
  },
  {
   "cell_type": "markdown",
   "metadata": {},
   "source": [
    "### Calculate regression metrics for regression model with Lasso-regularization, including model-score/R^2, mean-squared error, root-mean-squared error, mean-absolute error, median-absolute error."
   ]
  },
  {
   "cell_type": "code",
   "execution_count": 139,
   "metadata": {},
   "outputs": [
    {
     "name": "stderr",
     "output_type": "stream",
     "text": [
      "/Users/perry/anaconda3/lib/python3.6/site-packages/sklearn/linear_model/coordinate_descent.py:491: ConvergenceWarning: Objective did not converge. You might want to increase the number of iterations. Fitting data with very small alpha may cause precision problems.\n",
      "  ConvergenceWarning)\n"
     ]
    }
   ],
   "source": [
    "lm1 = Lasso()\n",
    "model_lm1 = lm1.fit(X_train,y_train)\n",
    "score2 = model_lm1.score(X_train,y_train)\n",
    "y_hat_lm1 = model_lm1.predict(X_train)\n",
    "mse2=mean_squared_error(y_train, y_hat_lm1)\n",
    "rmse2=np.sqrt(mean_squared_error(y_train, y_hat_lm1))\n",
    "meae2 = mean_absolute_error(y_train, y_hat_lm1)\n",
    "mdae2 = median_absolute_error(y_train, y_hat_lm1)\n",
    "X_train['y_hat_lm1'] = lm1.predict(X_train)\n",
    "r2_2 = r2_score(y_train, y_hat_lm1)"
   ]
  },
  {
   "cell_type": "markdown",
   "metadata": {},
   "source": [
    "### Calculate regression metrics for regression model with Ridge regularization, including model-score/R^2, mean-squared error, root-mean-squared error, mean-absolute error, median-absolute error."
   ]
  },
  {
   "cell_type": "code",
   "execution_count": 140,
   "metadata": {},
   "outputs": [],
   "source": [
    "lm2 = Ridge()\n",
    "model_lm2 = lm2.fit(X_train,y_train)\n",
    "score3 = model_lm2.score(X_train,y_train)\n",
    "y_hat_lm2 = model_lm2.predict(X_train)\n",
    "mse3=mean_squared_error(y_train, y_hat_lm2)\n",
    "rmse3=np.sqrt(mean_squared_error(y_train, y_hat_lm2))\n",
    "meae3 = mean_absolute_error(y_train, y_hat_lm2)\n",
    "mdae3 = median_absolute_error(y_train, y_hat_lm2)\n",
    "X_train['y_hat_lm2'] = lm2.predict(X_train)\n",
    "r2_3 = r2_score(y_train, y_hat_lm2)"
   ]
  },
  {
   "cell_type": "markdown",
   "metadata": {},
   "source": [
    "# Summary Metrics Table"
   ]
  },
  {
   "cell_type": "code",
   "execution_count": 141,
   "metadata": {},
   "outputs": [
    {
     "name": "stdout",
     "output_type": "stream",
     "text": [
      "| metric | LinReg | Lasso_prod| Ridge_prod|\n",
      "| --- | --- | --- | --- |\n",
      "| score | 0.9441678745346292 | 0.9441865204471793 | 0.9442623563732895 |\n",
      "| MSE | 350195921.98677963 | 350078969.2022968 | 349603303.4123507 |\n",
      "| RMSE | 18713.522436644034 | 18710.397355542635 | 18697.681765725683 |\n",
      "| mean-AE | 12831.536928371226 | 12810.758110519813 | 12805.973867902978 |\n",
      "| medn-AE | 9302.135911006277 | 9309.497258766976 | 9242.662263545571 |\n",
      "| r^2 | 0.9441678745346292 | 0.9441865204471793 | 0.9442623563732895 |\n"
     ]
    }
   ],
   "source": [
    "    print('| metric | LinReg | Lasso_prod| Ridge_prod|\\n| --- | --- | --- | --- |')\n",
    "    print(f'| {\"score\"} | {score1} | {score2} | {score3} |')\n",
    "    print(f'| {\"MSE\"} | {mse1} | {mse2} | {mse3} |')\n",
    "    print(f'| {\"RMSE\"} | {rmse1} | {rmse2} | {rmse3} |')\n",
    "    print(f'| {\"mean-AE\"} | {meae1} | {meae2} | {meae3} |')\n",
    "    print(f'| {\"medn-AE\"} | {mdae1} | {mdae2} | {mdae3} |')\n",
    "    print(f'| {\"r^2\"} | {r2_1} | {r2_2} | {r2_3} |')"
   ]
  },
  {
   "cell_type": "markdown",
   "metadata": {},
   "source": [
    "| metric | LinReg | Lasso_prod| Ridge_prod|\n",
    "| --- | --- | --- | --- |\n",
    "| score | 0.9441678745346292 | 0.9441865204471793 | 0.9442623563732895 |\n",
    "| MSE | 350195921.98677963 | 350078969.2022968 | 349603303.4123507 |\n",
    "| RMSE | 18713.522436644034 | 18710.397355542635 | 18697.681765725683 |\n",
    "| mean-AE | 12831.536928371226 | 12810.758110519813 | 12805.973867902978 |\n",
    "| medn-AE | 9302.135911006277 | 9309.497258766976 | 9242.662263545571 |\n",
    "| r^2 | 0.9441678745346292 | 0.9441865204471793 | 0.9442623563732895 |"
   ]
  },
  {
   "cell_type": "markdown",
   "metadata": {},
   "source": [
    "### Interpretation:\n",
    "#### Comparing the metrics for the three models side-by-side, one might conclude that the Ridge model has the lowest error and highest score/R^2-value."
   ]
  },
  {
   "cell_type": "markdown",
   "metadata": {},
   "source": [
    "# Please continue to Notebook-5."
   ]
  }
 ],
 "metadata": {
  "kernelspec": {
   "display_name": "Python 3",
   "language": "python",
   "name": "python3"
  },
  "language_info": {
   "codemirror_mode": {
    "name": "ipython",
    "version": 3
   },
   "file_extension": ".py",
   "mimetype": "text/x-python",
   "name": "python",
   "nbconvert_exporter": "python",
   "pygments_lexer": "ipython3",
   "version": "3.6.5"
  }
 },
 "nbformat": 4,
 "nbformat_minor": 2
}
